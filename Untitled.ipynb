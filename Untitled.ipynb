{
 "cells": [
  {
   "cell_type": "code",
   "execution_count": 1,
   "id": "3963c5a3-ded7-497e-a5d5-7f05a28b60ec",
   "metadata": {},
   "outputs": [
    {
     "name": "stdout",
     "output_type": "stream",
     "text": [
      "Collecting qutip\n",
      "  Downloading qutip-5.1.1-cp312-cp312-win_amd64.whl.metadata (9.4 kB)\n",
      "Requirement already satisfied: numpy>=1.22 in c:\\users\\kodo0\\anaconda3\\lib\\site-packages (from qutip) (1.26.4)\n",
      "Requirement already satisfied: scipy>=1.9 in c:\\users\\kodo0\\anaconda3\\lib\\site-packages (from qutip) (1.13.1)\n",
      "Requirement already satisfied: packaging in c:\\users\\kodo0\\anaconda3\\lib\\site-packages (from qutip) (24.1)\n",
      "Downloading qutip-5.1.1-cp312-cp312-win_amd64.whl (9.8 MB)\n",
      "   ---------------------------------------- 0.0/9.8 MB ? eta -:--:--\n",
      "   - -------------------------------------- 0.3/9.8 MB ? eta -:--:--\n",
      "   ---- ----------------------------------- 1.0/9.8 MB 3.0 MB/s eta 0:00:03\n",
      "   ------- -------------------------------- 1.8/9.8 MB 3.4 MB/s eta 0:00:03\n",
      "   ---------- ----------------------------- 2.6/9.8 MB 3.7 MB/s eta 0:00:02\n",
      "   -------------- ------------------------- 3.7/9.8 MB 3.9 MB/s eta 0:00:02\n",
      "   ------------------ --------------------- 4.5/9.8 MB 4.0 MB/s eta 0:00:02\n",
      "   --------------------- ------------------ 5.2/9.8 MB 3.9 MB/s eta 0:00:02\n",
      "   ------------------------ --------------- 6.0/9.8 MB 3.9 MB/s eta 0:00:01\n",
      "   --------------------------- ------------ 6.8/9.8 MB 3.9 MB/s eta 0:00:01\n",
      "   ------------------------------ --------- 7.6/9.8 MB 3.9 MB/s eta 0:00:01\n",
      "   ----------------------------------- ---- 8.7/9.8 MB 3.9 MB/s eta 0:00:01\n",
      "   -------------------------------------- - 9.4/9.8 MB 3.9 MB/s eta 0:00:01\n",
      "   ---------------------------------------- 9.8/9.8 MB 3.9 MB/s eta 0:00:00\n",
      "Installing collected packages: qutip\n",
      "Successfully installed qutip-5.1.1\n",
      "Note: you may need to restart the kernel to use updated packages.\n"
     ]
    }
   ],
   "source": [
    "pip install qutip"
   ]
  },
  {
   "cell_type": "code",
   "execution_count": 25,
   "id": "97a940ed-9b71-4018-8ccf-ca25977c0ee2",
   "metadata": {},
   "outputs": [],
   "source": [
    "import qutip\n",
    "import numpy as np\n",
    "import matplotlib.pyplot as plt"
   ]
  },
  {
   "cell_type": "code",
   "execution_count": 27,
   "id": "58bdff1b-9c15-42f9-bda1-2dc0c6aa950a",
   "metadata": {},
   "outputs": [],
   "source": [
    "xvec = np.linspace(-5,5,200)\n",
    "N = 20\n",
    "rho_coherent = qutip.coherent_dm(N, np.sqrt(2))\n",
    "rho_thermal = qutip.thermal_dm(N, 2)\n",
    "rho_fock = qutip.fock_dm(N, 2)\n",
    "W_coherent = qutip.wigner(rho_coherent, xvec, xvec)\n",
    "W_thermal = qutip.wigner(rho_thermal, xvec, xvec)\n",
    "W_fock = qutip.wigner(rho_fock, xvec, xvec)"
   ]
  },
  {
   "cell_type": "code",
   "execution_count": 43,
   "id": "e62c2790-fc8a-46a2-88c0-40aa5e9bdd90",
   "metadata": {},
   "outputs": [
    {
     "data": {
      "image/png": "[encoded data removed]",
      "text/plain": [
       "<Figure size 640x480 with 1 Axes>"
      ]
     },
     "metadata": {},
     "output_type": "display_data"
    }
   ],
   "source": [
    "# fig, axes = plt.subplots(1, 3, figsize=(12,3))\n",
    "\n",
    "cont0 = axes[0].contourf(xvec, xvec, W_coherent, 100)\n",
    "lbl0 = axes[0].set_title(\"Coherent state\")\n",
    "plt.axis('off')\n",
    "\n",
    "# cont1 = axes[1].contourf(xvec, xvec, W_thermal, 100)\n",
    "\n",
    "# lbl1 = axes[1].set_title(\"Thermal state\")\n",
    "# plt.axis('off')\n",
    "\n",
    "# cont0 = axes[2].contourf(xvec, xvec, W_fock, 100)\n",
    "\n",
    "# lbl2 = axes[2].set_title(\"Fock state\")\n",
    "# plt.axis('off')\n",
    "\n",
    "plt.show()"
   ]
  },
  {
   "cell_type": "code",
   "execution_count": null,
   "id": "993c6760-a773-4dcf-a26a-7c9c4449cb08",
   "metadata": {},
   "outputs": [],
   "source": []
  },
  {
   "cell_type": "code",
   "execution_count": null,
   "id": "ae159a36-f6f3-40eb-b943-5e4c26ffb099",
   "metadata": {},
   "outputs": [],
   "source": []
  }
 ],
 "metadata": {
  "kernelspec": {
   "display_name": "Python 3 (ipykernel)",
   "language": "python",
   "name": "python3"
  },
  "language_info": {
   "codemirror_mode": {
    "name": "ipython",
    "version": 3
   },
   "file_extension": ".py",
   "mimetype": "text/x-python",
   "name": "python",
   "nbconvert_exporter": "python",
   "pygments_lexer": "ipython3",
   "version": "3.12.7"
  }
 },
 "nbformat": 4,
 "nbformat_minor": 5
}
